{
  "nbformat": 4,
  "nbformat_minor": 0,
  "metadata": {
    "colab": {
      "name": "Continual Learning_AI.ipynb.txt",
      "provenance": [],
      "collapsed_sections": [],
      "include_colab_link": true
    },
    "kernelspec": {
      "name": "python3",
      "display_name": "Python 3"
    },
    "accelerator": "GPU"
  },
  "cells": [
    {
      "cell_type": "markdown",
      "metadata": {
        "id": "view-in-github",
        "colab_type": "text"
      },
      "source": [
        "<a href=\"https://colab.research.google.com/github/p-disha/Continual-Learning-AI/blob/master/Continual_Learning_AI.ipynb\" target=\"_parent\"><img src=\"https://colab.research.google.com/assets/colab-badge.svg\" alt=\"Open In Colab\"/></a>"
      ]
    },
    {
      "cell_type": "markdown",
      "metadata": {
        "id": "6fQNbsJcy_q4",
        "colab_type": "text"
      },
      "source": [
        "**Continual Learning and Catastrophic Interference**\n",
        "\n",
        "Advancements in continual learning (aka lifelong learning) have the potential to improve the efficacy and generalizability of predicitive models that adapt to changing conditions. This is even more important in environemnts with a real-time or fast collect input-predict-observe feedback loop such as robotics.\n",
        "\n",
        "A good continual learning model has a few notable properties. It is generalizable,  meaning that knowledge gained from one task can be applied to help perform other tasks. While being generalizable, the model still retains enough task-specific knowledge to perform disparate tasks well. \n",
        "Good models acheive a balance of flexibility where new tasks are effectively learned and stability where learning new tasks does not interfere with previous knowledge. \n",
        "\n",
        "Catastrophic interference is one of key challeges in continual learning. Catastrophic interference occurs when learning new tasks leads to a failure to accurately perform previously learned tasks. Naive continual learning models allow this to happen when new learning overwrites or modifies the weights associated with previously learned tasks. \n",
        "\n",
        "**There are different approaches to overcoming catastrophic learning:**\n",
        "- Storing all previous data and retrain models after aquiring new data or performing new tasks. \n",
        "  - This approach is resource intensive (CPU-cycles, memory, time) and is not appropriate in many applications\n",
        "- Performing network expansions where additional neural resources are allocated to model the new tasks without changing the underlying knowledge\n",
        "  - This approach does not scale well with an increasing number of tasks and can also become resouce intensive\n",
        "- Non-overlapping task representations can be constructed\n",
        "  - This approach does not suffer from catastrophic interference becuase each task effectively has a distinct model. However, there is no generalizability \n",
        "- Old and new knowledge can be interleaved to prevent new information from exessively modifying old knowledge\n",
        "  - This requires more memory and mechanisms to protect older knowledge\n",
        "- Regularization terms on loss functions to limit how much new information can modify model weights\n",
        "  - Regularization reduces but does not prevent catastrophic interference as model weights are still updated by new information. Additionally, the magnitude of weight changes from new information is skewed towards earlier examples\n",
        "- Complementary learning systems that use both short-term and long-term weights to combine general, longer-term knowledge with task-specific, shorter-term knowledge\n",
        "\n",
        "**Gradient Episodic Memory (GEM)**\n",
        "\n",
        "Gradient Episodic Memory is a type of complementary learning system that uses per-task or per-episode memory to both perform effectively on current task while reducing the potential for catstrophic interference or even improving previous tasks(positive backwards transfer). This is facilitated through minimizing the current task's loss function subject to the loss not significantly increasing for previous episode-specific functions. GEM requires more memory than other approaches (such as regularization) but peforms better in single-pass settings and with frequent, small batches of data. \n",
        "\n",
        "\n",
        "**Our Approach**\n",
        "\n",
        "We decided to compare GEM to four of the models (single,independent,multimodal,EWC) in Lopez-Ranzato paper(http://papers.nips.cc/paper/7225-gradient-episodic-memory-for-continual-learning.pdf) using the MNIST and MNIST permuted data sets. \n",
        "\n",
        "\n"
      ]
    },
    {
      "cell_type": "code",
      "metadata": {
        "id": "nzniSE0rheim",
        "colab_type": "code",
        "colab": {}
      },
      "source": [
        "import numpy as np\n",
        "import subprocess\n",
        "import pickle\n",
        "import torch\n",
        "import os\n",
        "import math\n",
        "import torch.nn as nn\n",
        "from torch.nn.functional import relu, avg_pool2d\n",
        "import torch.optim as optim\n",
        "import numpy as np\n",
        "import argparse"
      ],
      "execution_count": null,
      "outputs": []
    },
    {
      "cell_type": "markdown",
      "metadata": {
        "id": "V0Dgqr3Cyslz",
        "colab_type": "text"
      },
      "source": [
        "**Data Sets** \n",
        "\n",
        "The MNIST image set consists of 70,000 hand-written digits. 60,000 are used for training and 10,000 for testing. The permuted dataset contains modified MNIST images to represent new tasks or classes. \n",
        "\n"
      ]
    },
    {
      "cell_type": "code",
      "metadata": {
        "id": "-ZgwnwQ6hheY",
        "colab_type": "code",
        "colab": {}
      },
      "source": [
        "\n",
        "cifar_path = \"cifar-100-python.tar.gz\"\n",
        "mnist_path = \"mnist.npz\"\n",
        "\n",
        "# URL from: https://www.cs.toronto.edu/~kriz/cifar.html\n",
        "if not os.path.exists(cifar_path):\n",
        "    subprocess.call(\"wget https://www.cs.toronto.edu/~kriz/cifar-100-python.tar.gz\", shell=True)\n",
        "\n",
        "subprocess.call(\"tar xzfv cifar-100-python.tar.gz\", shell=True)\n",
        "\n",
        "# URL from: https://github.com/fchollet/keras/blob/master/keras/datasets/mnist.py\n",
        "if not os.path.exists(mnist_path):\n",
        "    subprocess.call(\"wget https://s3.amazonaws.com/img-datasets/mnist.npz\", shell=True)\n",
        "\n"
      ],
      "execution_count": null,
      "outputs": []
    },
    {
      "cell_type": "code",
      "metadata": {
        "id": "niYLGwDahlHn",
        "colab_type": "code",
        "colab": {}
      },
      "source": [
        "def unpickle(file):\n",
        "    with open(file, 'rb') as fo:\n",
        "        dict = pickle.load(fo, encoding='bytes')\n",
        "    return dict\n",
        "\n"
      ],
      "execution_count": null,
      "outputs": []
    },
    {
      "cell_type": "markdown",
      "metadata": {
        "id": "n6QDD7V3zkdk",
        "colab_type": "text"
      },
      "source": [
        "Here we load the data we will work with, create Pytorch Tensor objects from ndarrays, and save the Tensor objects to disk. Tensors can be though of somewhat like multidimensional matrices.  "
      ]
    },
    {
      "cell_type": "code",
      "metadata": {
        "id": "33WB-8DIhp4W",
        "colab_type": "code",
        "colab": {}
      },
      "source": [
        "cifar100_train = unpickle('cifar-100-python/train')\n",
        "cifar100_test = unpickle('cifar-100-python/test')\n",
        "\n",
        "x_tr = torch.from_numpy(cifar100_train[b'data'])\n",
        "y_tr = torch.LongTensor(cifar100_train[b'fine_labels'])\n",
        "x_te = torch.from_numpy(cifar100_test[b'data'])\n",
        "y_te = torch.LongTensor(cifar100_test[b'fine_labels'])\n",
        "\n",
        "torch.save((x_tr, y_tr, x_te, y_te), 'cifar100.pt')\n",
        "\n",
        "f = np.load('mnist.npz')\n",
        "x_mnist_tr = torch.from_numpy(f['x_train'])\n",
        "y_mnist_tr = torch.from_numpy(f['y_train']).long()\n",
        "x_mnist_te = torch.from_numpy(f['x_test'])\n",
        "y_mnist_te = torch.from_numpy(f['y_test']).long()\n",
        "f.close()\n",
        "\n",
        "torch.save((x_mnist_tr, y_mnist_tr), 'mnist_train.pt')\n",
        "torch.save((x_mnist_te, y_mnist_te), 'mnist_test.pt')"
      ],
      "execution_count": null,
      "outputs": []
    },
    {
      "cell_type": "markdown",
      "metadata": {
        "id": "JqgGYPuezzhA",
        "colab_type": "text"
      },
      "source": [
        "Using matplotlib, we take a look at a sample of the MNIST data"
      ]
    },
    {
      "cell_type": "code",
      "metadata": {
        "id": "tNb6jbMlP3MG",
        "colab_type": "code",
        "colab": {
          "base_uri": "https://localhost:8080/",
          "height": 1000
        },
        "outputId": "0358f456-a94b-4baa-d832-5339eeca3df3"
      },
      "source": [
        "import matplotlib.pyplot as plt\n",
        "label_list=np.unique(y_mnist_tr)\n",
        "print(label_list)\n",
        "plt.figure(figsize=(20,20))\n",
        "for j in label_list: \n",
        "  cnt=0\n",
        "  for i in range(6000):\n",
        "      if(y_mnist_tr[i]==j):\n",
        "        factor=10*j\n",
        "        plt.subplot(10,10,cnt+factor+1)\n",
        "        plt.xticks([])\n",
        "        plt.yticks([])\n",
        "        plt.grid(False)\n",
        "        plt.imshow(x_mnist_tr[i], cmap=plt.cm.binary)\n",
        "        plt.xlabel(y_mnist_tr[i])\n",
        "        cnt=cnt+1\n",
        "      if(cnt==10):\n",
        "        break;\n",
        "plt.show()"
      ],
      "execution_count": null,
      "outputs": [
        {
          "output_type": "stream",
          "text": [
            "[0 1 2 3 4 5 6 7 8 9]\n"
          ],
          "name": "stdout"
        },
        {
          "output_type": "display_data",
          "data": {
            "image/png": "[encoded data removed]",
            "text/plain": [
              "<Figure size 2000x2000 with 100 Axes>"
            ]
          },
          "metadata": {
            "tags": []
          }
        }
      ]
    },
    {
      "cell_type": "markdown",
      "metadata": {
        "id": "6wocqqaTiJ1k",
        "colab_type": "text"
      },
      "source": [
        "**Preprocessing Classes and Functions Common to Various Models.**\n",
        "\n",
        "**MLP**: Class implements the MLP based on the Pytorch base NN module\n",
        "\n",
        "**ResNet**: Class implements the ResidualNN based on the Pytorch base NN module\n",
        "\n",
        "**BasicBlock**: Implements the two-layer 2D convolutions needed for the ResNet\n",
        "\n",
        "\n",
        "**load_datasets:** loads and outputs training and test data with sizing information regarding inputs and outputs\n",
        "\n",
        "**Xavier:** Xavier initializes the NN weights based on approach proposed by **Xavier Glorot and Yoshua Bengio** to mitigate the vanish gradient problem. It is used by the MLP. \n",
        "\n",
        "**conv3x3:** Applies a 2D convolution over the input planes\n",
        "\n",
        "\n"
      ]
    },
    {
      "cell_type": "code",
      "metadata": {
        "id": "MTFmOJaaiHtP",
        "colab_type": "code",
        "colab": {}
      },
      "source": [
        "def load_datasets(args):\n",
        "    d_tr, d_te = torch.load('/content/drive/My Drive/GradientEpisodicMemory-master/data/mnist_permutations.py')\n",
        "    n_inputs = d_tr[0][1].size(1)\n",
        "    n_outputs = 0\n",
        "    for i in range(len(d_tr)):\n",
        "        n_outputs = max(n_outputs, d_tr[i][2].max().item())\n",
        "        n_outputs = max(n_outputs, d_te[i][2].max().item())\n",
        "    return d_tr, d_te, n_inputs, n_outputs + 1, len(d_tr)\n",
        "\n",
        "def Xavier(m):\n",
        "    if m.__class__.__name__ == 'Linear':\n",
        "        fan_in, fan_out = m.weight.data.size(1), m.weight.data.size(0)\n",
        "        std = 1.0 * math.sqrt(2.0 / (fan_in + fan_out))\n",
        "        a = math.sqrt(3.0) * std\n",
        "        m.weight.data.uniform_(-a, a)\n",
        "        m.bias.data.fill_(0.0)\n",
        "\n",
        "\n",
        "class MLP(nn.Module):\n",
        "    def __init__(self, sizes):\n",
        "        super(MLP, self).__init__()\n",
        "        layers = []\n",
        "\n",
        "        for i in range(0, len(sizes) - 1):\n",
        "            layers.append(nn.Linear(sizes[i], sizes[i + 1]))\n",
        "            if i < (len(sizes) - 2):\n",
        "                layers.append(nn.ReLU())\n",
        "\n",
        "        self.net = nn.Sequential(*layers)\n",
        "        self.net.apply(Xavier)\n",
        "\n",
        "    def forward(self, x):\n",
        "        return self.net(x)\n",
        "\n",
        "\n",
        "def conv3x3(in_planes, out_planes, stride=1):\n",
        "    return nn.Conv2d(in_planes, out_planes, kernel_size=3, stride=stride,\n",
        "                     padding=1, bias=False)\n",
        "\n",
        "\n",
        "class BasicBlock(nn.Module):\n",
        "    expansion = 1\n",
        "\n",
        "    def __init__(self, in_planes, planes, stride=1):\n",
        "        super(BasicBlock, self).__init__()\n",
        "        self.conv1 = conv3x3(in_planes, planes, stride)\n",
        "        self.bn1 = nn.BatchNorm2d(planes)\n",
        "        self.conv2 = conv3x3(planes, planes)\n",
        "        self.bn2 = nn.BatchNorm2d(planes)\n",
        "\n",
        "        self.shortcut = nn.Sequential()\n",
        "        if stride != 1 or in_planes != self.expansion * planes:\n",
        "            self.shortcut = nn.Sequential(\n",
        "                nn.Conv2d(in_planes, self.expansion * planes, kernel_size=1,\n",
        "                          stride=stride, bias=False),\n",
        "                nn.BatchNorm2d(self.expansion * planes)\n",
        "            )\n",
        "\n",
        "    def forward(self, x):\n",
        "        out = relu(self.bn1(self.conv1(x)))\n",
        "        out = self.bn2(self.conv2(out))\n",
        "        out += self.shortcut(x)\n",
        "        out = relu(out)\n",
        "        return out\n",
        "\n",
        "\n",
        "class ResNet(nn.Module):\n",
        "    def __init__(self, block, num_blocks, num_classes, nf):\n",
        "        super(ResNet, self).__init__()\n",
        "        self.in_planes = nf\n",
        "\n",
        "        self.conv1 = conv3x3(3, nf * 1)\n",
        "        self.bn1 = nn.BatchNorm2d(nf * 1)\n",
        "        self.layer1 = self._make_layer(block, nf * 1, num_blocks[0], stride=1)\n",
        "        self.layer2 = self._make_layer(block, nf * 2, num_blocks[1], stride=2)\n",
        "        self.layer3 = self._make_layer(block, nf * 4, num_blocks[2], stride=2)\n",
        "        self.layer4 = self._make_layer(block, nf * 8, num_blocks[3], stride=2)\n",
        "        self.linear = nn.Linear(nf * 8 * block.expansion, num_classes)\n",
        "\n",
        "    def _make_layer(self, block, planes, num_blocks, stride):\n",
        "        strides = [stride] + [1] * (num_blocks - 1)\n",
        "        layers = []\n",
        "        for stride in strides:\n",
        "            layers.append(block(self.in_planes, planes, stride))\n",
        "            self.in_planes = planes * block.expansion\n",
        "        return nn.Sequential(*layers)\n",
        "\n",
        "    def forward(self, x):\n",
        "        bsz = x.size(0)\n",
        "        out = relu(self.bn1(self.conv1(x.view(bsz, 3, 32, 32))))\n",
        "        out = self.layer1(out)\n",
        "        out = self.layer2(out)\n",
        "        out = self.layer3(out)\n",
        "        out = self.layer4(out)\n",
        "        out = avg_pool2d(out, 4)\n",
        "        out = out.view(out.size(0), -1)\n",
        "        out = self.linear(out)\n",
        "        return out\n",
        "\n",
        "\n",
        "def ResNet18(nclasses, nf=20):\n",
        "    return ResNet(BasicBlock, [2, 2, 2, 2], nclasses, nf)"
      ],
      "execution_count": null,
      "outputs": []
    },
    {
      "cell_type": "markdown",
      "metadata": {
        "id": "9lWo8BHOhxpg",
        "colab_type": "text"
      },
      "source": [
        "**Model 1: Single Predictor Trained Across All Tasks** \n",
        "\n",
        "Model 1 serves somewhat like a simple control model for use as a basis of comparison. There is no episodic memory meaning that there will be no subset of instances used to minimize the loss per task. It would be expected that this model should display a great deal of catastrophic interference as it is trained for new tasks like classifying permuted images.\n",
        "\n",
        "The model uses a ResNet18 for the CIFAR-100 data and an MLP for the MNIST data. Stochastic gradient descent is how the NN is trained/optimized. The loss function is the sum of cross entropy loss across all tasks. "
      ]
    },
    {
      "cell_type": "code",
      "metadata": {
        "id": "tTwAXKRNh6t9",
        "colab_type": "code",
        "colab": {}
      },
      "source": [
        "class SinglePredictorModel(torch.nn.Module):\n",
        "\n",
        "    def __init__(self,\n",
        "                 n_inputs,\n",
        "                 n_outputs,\n",
        "                 n_tasks,\n",
        "                 n_layers,\n",
        "                 n_hiddens,\n",
        "                 data_file,\n",
        "                 lr):\n",
        "        super(SinglePredictorModel, self).__init__()\n",
        "        nl, nh = n_layers, n_hiddens\n",
        "        # setup network\n",
        "        self.is_cifar = (data_file == 'cifar100.pt')\n",
        "        if self.is_cifar:\n",
        "            self.net = ResNet18(n_outputs)\n",
        "        else:\n",
        "            self.net = MLP([n_inputs] + [nh] * nl + [n_outputs])\n",
        "\n",
        "        # setup optimizer\n",
        "        self.opt = torch.optim.SGD(self.parameters(), lr=lr)\n",
        "\n",
        "        # setup losses\n",
        "        self.bce = torch.nn.CrossEntropyLoss()\n",
        "\n",
        "        if self.is_cifar:\n",
        "            self.nc_per_task = n_outputs / n_tasks\n",
        "        else:\n",
        "            self.nc_per_task = n_outputs\n",
        "        self.n_outputs = n_outputs\n",
        "\n",
        "    def compute_offsets(self, task):\n",
        "        if self.is_cifar:\n",
        "            offset1 = task * self.nc_per_task\n",
        "            offset2 = (task + 1) * self.nc_per_task\n",
        "        else:\n",
        "            offset1 = 0\n",
        "            offset2 = self.n_outputs\n",
        "        return int(offset1), int(offset2)\n",
        "\n",
        "    def forward(self, x, t):\n",
        "        output = self.net(x)\n",
        "        if self.is_cifar:\n",
        "            # make sure we predict classes within the current task\n",
        "            offset1, offset2 = self.compute_offsets(t)\n",
        "            if offset1 > 0:\n",
        "                output[:, :offset1].data.fill_(-10e10)\n",
        "            if offset2 < self.n_outputs:\n",
        "                output[:, offset2:self.n_outputs].data.fill_(-10e10)\n",
        "        return output\n",
        "\n",
        "    def observe(self, x, t, y):\n",
        "        self.train()\n",
        "        self.zero_grad()\n",
        "        if self.is_cifar:\n",
        "            offset1, offset2 = self.compute_offsets(t)\n",
        "            self.bce((self.net(x)[:, offset1: offset2]),\n",
        "                     y - offset1).backward()\n",
        "        else:\n",
        "            self.bce(self(x, t), y).backward()\n",
        "        self.opt.step()"
      ],
      "execution_count": null,
      "outputs": []
    },
    {
      "cell_type": "markdown",
      "metadata": {
        "id": "cO_rPwJNizWn",
        "colab_type": "text"
      },
      "source": [
        "**Model 2: Single Independent Predictor per Task**\n",
        "\n",
        "Model 2 also serves as a useful basis for comparison. An independent predictor is trained with an for each distinct task implying that there will be no catastrophic interference becuase tasks are completely independent. This also implies that the model will less accurate/robust as there is little generalized learning. Nothing learned in task 1 can be applied to task 2 with completely independent predictors. \n",
        "\n",
        "The independent predictors have the equivalent architecture (scaled down hidden units given fewer tasks), optimization, and loss function as model 1. Task-level predictor initial weigths will be the best of the weights from the last trained task or random selection. \n"
      ]
    },
    {
      "cell_type": "code",
      "metadata": {
        "id": "emCwckMfjF7B",
        "colab_type": "code",
        "colab": {}
      },
      "source": [
        "class InpendentPredicatorPerTaskModel(torch.nn.Module):\n",
        "\n",
        "    def __init__(self,\n",
        "                 n_inputs,\n",
        "                 n_outputs,\n",
        "                 n_tasks,\n",
        "                 n_layers,\n",
        "                 n_hiddens,\n",
        "                 data_file,\n",
        "                 lr,\n",
        "                 fine_tune,\n",
        "                 cuda):\n",
        "        super(InpendentPredicatorPerTaskModel, self).__init__()\n",
        "        nl, nh = n_layers, n_hiddens\n",
        "        self.nets = torch.nn.ModuleList()\n",
        "        self.opts = []\n",
        "\n",
        "        self.is_cifar = (data_file == 'cifar100.pt')\n",
        "        if self.is_cifar:\n",
        "            self.nc_per_task = n_outputs / n_tasks\n",
        "        self.n_outputs = n_outputs\n",
        "\n",
        "        # setup network\n",
        "        for _ in range(n_tasks):\n",
        "            if self.is_cifar:\n",
        "                self.nets.append(\n",
        "                    ResNet18(int(n_outputs / n_tasks), int(20 / n_tasks)))\n",
        "            else:\n",
        "                self.nets.append(\n",
        "                    MLP([n_inputs] + [int(nh / n_tasks)] * nl + [n_outputs]))\n",
        "\n",
        "        # setup optimizer\n",
        "        for t in range(n_tasks):\n",
        "            self.opts.append(torch.optim.SGD(self.nets[t].parameters(),\n",
        "                                             lr=lr))\n",
        "\n",
        "        # setup loss\n",
        "        self.bce = torch.nn.CrossEntropyLoss()\n",
        "\n",
        "        self.finetune = finetune\n",
        "        self.gpu = cuda\n",
        "        self.old_task = 0\n",
        "\n",
        "    def forward(self, x, t):\n",
        "        output = self.nets[t](x)\n",
        "        if self.is_cifar:\n",
        "            bigoutput = torch.Tensor(x.size(0), self.n_outputs)\n",
        "            if self.gpu:\n",
        "                bigoutput = bigoutput.cuda()\n",
        "            bigoutput.fill_(-10e10)\n",
        "            bigoutput[:, int(t * self.nc_per_task): int((t + 1) * self.nc_per_task)].copy_(\n",
        "                output.data)\n",
        "            return bigoutput\n",
        "        else:\n",
        "            return output\n",
        "\n",
        "    def observe(self, x, t, y):\n",
        "        # detect beginning of a new task\n",
        "        if self.finetune and t > 0 and t != self.old_task:\n",
        "            # initialize current network like the previous one\n",
        "            for ppold, ppnew in zip(self.nets[self.old_task].parameters(),\n",
        "                                    self.nets[t].parameters()):\n",
        "                ppnew.data.copy_(ppold.data)\n",
        "            self.old_task = t\n",
        "\n",
        "        self.train()\n",
        "        self.zero_grad()\n",
        "        if self.is_cifar:\n",
        "            self.bce(self.nets[t](x), y - int(t * self.nc_per_task)).backward()\n",
        "        else:\n",
        "            self.bce(self(x, t), y).backward()\n",
        "        self.opts[t].step()"
      ],
      "execution_count": null,
      "outputs": []
    },
    {
      "cell_type": "markdown",
      "metadata": {
        "id": "fGVLEJBrjYZz",
        "colab_type": "text"
      },
      "source": [
        "**Model 3: Multimodal Predictor**\n",
        "\n",
        "Multimodal models allow tasks to use input data with different modalities or significantly different feature representations such as audio data for one task and video data for a separate task. This approach can allow for task-specific flexibility while allowing some generalizability of knowledge encoded in the underlying hidden layers. \n",
        "\n",
        "This model uses a comparable architecture to Model 1 (\"single\") model but tasks have distinct input layers. A negative log likelihood loss function is used. "
      ]
    },
    {
      "cell_type": "code",
      "metadata": {
        "id": "r_IfAf8OjeDz",
        "colab_type": "code",
        "colab": {}
      },
      "source": [
        "def reset_bias(m):\n",
        "    m.bias.data.fill_(0.0)\n",
        "\n",
        "\n",
        "class MultimodelPredictorModel(nn.Module):\n",
        "    def __init__(self,\n",
        "                 n_inputs,\n",
        "                 n_outputs,\n",
        "                 n_tasks,\n",
        "                 n_hiddens,\n",
        "                 n_layers,\n",
        "                 lr):\n",
        "        super(MultimodelPredictorModel, self).__init__()\n",
        "\n",
        "        self.i_layer = nn.ModuleList()\n",
        "        self.h_layer = nn.ModuleList()\n",
        "        self.o_layer = nn.ModuleList()\n",
        "\n",
        "        self.n_layers = n_layers\n",
        "        nh = n_hiddens\n",
        "\n",
        "        if self.n_layers > 0:\n",
        "            # dedicated input layer\n",
        "            for _ in range(n_tasks):\n",
        "                self.i_layer += [nn.Linear(n_inputs, nh)]\n",
        "                reset_bias(self.i_layer[-1])\n",
        "\n",
        "            # shared hidden layer\n",
        "            self.h_layer += [nn.ModuleList()]\n",
        "            for _ in range(self.n_layers):\n",
        "                self.h_layer[0] += [nn.Linear(nh, nh)]\n",
        "                reset_bias(self.h_layer[0][0])\n",
        "\n",
        "            # shared output layer\n",
        "            self.o_layer += [nn.Linear(nh, n_outputs)]\n",
        "            reset_bias(self.o_layer[-1])\n",
        "\n",
        "        # linear model falls back to independent models\n",
        "        else:\n",
        "            self.i_layer += [nn.Linear(n_inputs, n_outputs)]\n",
        "            reset_bias(self.i_layer[-1])\n",
        "\n",
        "        self.relu = nn.ReLU()\n",
        "        self.soft = nn.LogSoftmax(dim=1)\n",
        "        self.loss = nn.NLLLoss()\n",
        "        self.optimizer = torch.optim.SGD(self.parameters(), lr)\n",
        "\n",
        "    def forward(self, x, t):\n",
        "        h = x\n",
        "\n",
        "        if self.n_layers == 0:\n",
        "            y = self.soft(self.i_layer[t if isinstance(t, int) else t[0]](h))\n",
        "        else:\n",
        "            # task-specific input\n",
        "            h = self.relu(self.i_layer[t if isinstance(t, int) else t[0]](h))\n",
        "            # shared hiddens\n",
        "            for l in range(self.n_layers):\n",
        "                h = self.relu(self.h_layer[0][l](h))\n",
        "            # shared output\n",
        "            y = self.soft(self.o_layer[0](h))\n",
        "\n",
        "        return y\n",
        "\n",
        "    def observe(self, x, t, y):\n",
        "        self.zero_grad()\n",
        "        self.loss(self.forward(x, t), y).backward()\n",
        "        self.optimizer.step()"
      ],
      "execution_count": null,
      "outputs": []
    },
    {
      "cell_type": "markdown",
      "metadata": {
        "id": "8gpZPpOojk9_",
        "colab_type": "text"
      },
      "source": [
        "**Model 4: Elastic Weight Consolidation (EWC) Model** \n",
        "\n",
        "The EWC model is an approach that seeks to overcome catastrophic interference though regularization to prevent how much neural net weights can change in response to new batches of information. While regularization does reduce catastrophic interference, it does not prevent it entirely. Furthermore the regulaization can to an extent hinder incremental learning leading to lower accuracy than other potential approaches\n"
      ]
    },
    {
      "cell_type": "code",
      "metadata": {
        "id": "r3DEQGTujzC4",
        "colab_type": "code",
        "colab": {}
      },
      "source": [
        "class EWCModel(torch.nn.Module):\n",
        "\n",
        "    def __init__(self,\n",
        "                 n_inputs,\n",
        "                 n_outputs,\n",
        "                 n_tasks,\n",
        "                 n_hiddens,\n",
        "                 n_layers,\n",
        "                 lr,\n",
        "                 data_file,\n",
        "                 memory_strength,\n",
        "                 n_memories):\n",
        "        super(EWCModel, self).__init__()\n",
        "        nl, nh = n_layers, n_hiddens\n",
        "        self.reg = memory_strength\n",
        "\n",
        "        # setup network\n",
        "        self.is_cifar = (data_file == 'cifar100.pt')\n",
        "        if self.is_cifar:\n",
        "            self.net = ResNet18(n_outputs)\n",
        "        else:\n",
        "            self.net = MLP([n_inputs] + [nh] * nl + [n_outputs])\n",
        "\n",
        "        # setup optimizer\n",
        "        self.opt = torch.optim.SGD(self.net.parameters(), lr=lr)\n",
        "\n",
        "        # setup losses\n",
        "        self.bce = torch.nn.CrossEntropyLoss()\n",
        "\n",
        "        # setup memories\n",
        "        self.current_task = 0\n",
        "        self.fisher = {}\n",
        "        self.optpar = {}\n",
        "        self.memx = None\n",
        "        self.memy = None\n",
        "\n",
        "        if self.is_cifar:\n",
        "            self.nc_per_task = n_outputs / n_tasks\n",
        "        else:\n",
        "            self.nc_per_task = n_outputs\n",
        "        self.n_outputs = n_outputs\n",
        "        self.n_memories = n_memories\n",
        "\n",
        "    def compute_offsets(self, task):\n",
        "        if self.is_cifar:\n",
        "            offset1 = task * self.nc_per_task\n",
        "            offset2 = (task + 1) * self.nc_per_task\n",
        "        else:\n",
        "            offset1 = 0\n",
        "            offset2 = self.n_outputs\n",
        "        return int(offset1), int(offset2)\n",
        "\n",
        "    def forward(self, x, t):\n",
        "        output = self.net(x)\n",
        "        if self.is_cifar:\n",
        "            # make sure we predict classes within the current task\n",
        "            offset1, offset2 = self.compute_offsets(t)\n",
        "            if offset1 > 0:\n",
        "                output[:, :offset1].data.fill_(-10e10)\n",
        "            if offset2 < self.n_outputs:\n",
        "                output[:, int(offset2):self.n_outputs].data.fill_(-10e10)\n",
        "        return output\n",
        "\n",
        "    def observe(self, x, t, y):\n",
        "        self.net.train()\n",
        "\n",
        "        # next task?\n",
        "        if t != self.current_task:\n",
        "            self.net.zero_grad()\n",
        "\n",
        "            if self.is_cifar:\n",
        "                offset1, offset2 = self.compute_offsets(self.current_task)\n",
        "                self.bce((self.net(self.memx)[:, offset1: offset2]),\n",
        "                         self.memy - offset1).backward()\n",
        "            else:\n",
        "                self.bce(self(self.memx,\n",
        "                              self.current_task),\n",
        "                         self.memy).backward()\n",
        "            self.fisher[self.current_task] = []\n",
        "            self.optpar[self.current_task] = []\n",
        "            for p in self.net.parameters():\n",
        "                pd = p.data.clone()\n",
        "                pg = p.grad.data.clone().pow(2)\n",
        "                self.optpar[self.current_task].append(pd)\n",
        "                self.fisher[self.current_task].append(pg)\n",
        "            self.current_task = t\n",
        "            self.memx = None\n",
        "            self.memy = None\n",
        "\n",
        "        if self.memx is None:\n",
        "            self.memx = x.data.clone()\n",
        "            self.memy = y.data.clone()\n",
        "        else:\n",
        "            if self.memx.size(0) < self.n_memories:\n",
        "                self.memx = torch.cat((self.memx, x.data.clone()))\n",
        "                self.memy = torch.cat((self.memy, y.data.clone()))\n",
        "                if self.memx.size(0) > self.n_memories:\n",
        "                    self.memx = self.memx[:self.n_memories]\n",
        "                    self.memy = self.memy[:self.n_memories]\n",
        "\n",
        "        self.net.zero_grad()\n",
        "        if self.is_cifar:\n",
        "            offset1, offset2 = self.compute_offsets(t)\n",
        "            loss = self.bce((self.net(x)[:, offset1: offset2]),\n",
        "                            y - offset1)\n",
        "        else:\n",
        "            loss = self.bce(self(x, t), y)\n",
        "        for tt in range(t):\n",
        "            for i, p in enumerate(self.net.parameters()):\n",
        "                l = self.reg * self.fisher[tt][i]\n",
        "                l = l * (p - self.optpar[tt][i]).pow(2)\n",
        "                loss += l.sum()\n",
        "        loss.backward()\n",
        "        self.opt.step()"
      ],
      "execution_count": null,
      "outputs": []
    },
    {
      "cell_type": "markdown",
      "metadata": {
        "id": "H4F8D1ULkWmL",
        "colab_type": "text"
      },
      "source": [
        "**Gradient Episodic Memory**\n",
        "\n",
        "As previously discussed, uses episodic memory where it saves instances for each separate task. When training a new task, optimizing the loss function seeks weights that minimize the current task's loss subject to loss not increasing for the previous episodes/tasks. The previous episode's loss is caluclated using the sample of stored instances. \n",
        "\n",
        "Stochastic gradient descent is used for optimization and cross entropy loss is used to calculate loss. "
      ]
    },
    {
      "cell_type": "code",
      "metadata": {
        "id": "aOpAnXysk4LT",
        "colab_type": "code",
        "colab": {}
      },
      "source": [
        "# Auxiliary functions useful for GEM's inner optimization.\n",
        "\n",
        "def compute_offsets(task, nc_per_task, is_cifar):\n",
        "    \"\"\"\n",
        "        Compute offsets for cifar to determine which\n",
        "        outputs to select for a given task.\n",
        "    \"\"\"\n",
        "    if is_cifar:\n",
        "        offset1 = task * nc_per_task\n",
        "        offset2 = (task + 1) * nc_per_task\n",
        "    else:\n",
        "        offset1 = 0\n",
        "        offset2 = nc_per_task\n",
        "    return offset1, offset2\n",
        "\n",
        "\n",
        "def store_grad(pp, grads, grad_dims, tid):\n",
        "    \"\"\"\n",
        "        This stores parameter gradients of past tasks.\n",
        "        pp: parameters\n",
        "        grads: gradients\n",
        "        grad_dims: list with number of parameters per layers\n",
        "        tid: task id\n",
        "    \"\"\"\n",
        "    # store the gradients\n",
        "    grads[:, tid].fill_(0.0)\n",
        "    cnt = 0\n",
        "    for param in pp():\n",
        "        if param.grad is not None:\n",
        "            beg = 0 if cnt == 0 else sum(grad_dims[:cnt])\n",
        "            en = sum(grad_dims[:cnt + 1])\n",
        "            grads[beg: en, tid].copy_(param.grad.data.view(-1))\n",
        "        cnt += 1\n",
        "\n",
        "\n",
        "def overwrite_grad(pp, newgrad, grad_dims):\n",
        "    \"\"\"\n",
        "        This is used to overwrite the gradients with a new gradient\n",
        "        vector, whenever violations occur.\n",
        "        pp: parameters\n",
        "        newgrad: corrected gradient\n",
        "        grad_dims: list storing number of parameters at each layer\n",
        "    \"\"\"\n",
        "    cnt = 0\n",
        "    for param in pp():\n",
        "        if param.grad is not None:\n",
        "            beg = 0 if cnt == 0 else sum(grad_dims[:cnt])\n",
        "            en = sum(grad_dims[:cnt + 1])\n",
        "            this_grad = newgrad[beg: en].contiguous().view(\n",
        "                param.grad.data.size())\n",
        "            param.grad.data.copy_(this_grad)\n",
        "        cnt += 1\n",
        "\n",
        "\n",
        "def project2cone2(gradient, memories, margin=0.5, eps=1e-3):\n",
        "    \"\"\"\n",
        "        Solves the GEM dual QP described in the paper given a proposed\n",
        "        gradient \"gradient\", and a memory of task gradients \"memories\".\n",
        "        Overwrites \"gradient\" with the final projected update.\n",
        "        input:  gradient, p-vector\n",
        "        input:  memories, (t * p)-vector\n",
        "        output: x, p-vector\n",
        "    \"\"\"\n",
        "    memories_np = memories.cpu().t().double().numpy()\n",
        "    gradient_np = gradient.cpu().contiguous().view(-1).double().numpy()\n",
        "    t = memories_np.shape[0]\n",
        "    P = np.dot(memories_np, memories_np.transpose())\n",
        "    P = 0.5 * (P + P.transpose()) + np.eye(t) * eps\n",
        "    q = np.dot(memories_np, gradient_np) * -1\n",
        "    G = np.eye(t)\n",
        "    h = np.zeros(t) + margin\n",
        "    v = quadprog.solve_qp(P, q, G, h)[0]\n",
        "    x = np.dot(v, memories_np) + gradient_np\n",
        "    gradient.copy_(torch.Tensor(x).view(-1, 1))\n",
        "\n",
        "\n",
        "class GemModel(nn.Module):\n",
        "    def __init__(self,\n",
        "                 n_inputs,\n",
        "                 n_outputs,\n",
        "                 n_tasks,\n",
        "                 n_layers,\n",
        "                 n_hiddens,\n",
        "                 n_memories,\n",
        "                 memory_strength,\n",
        "                 data_file,\n",
        "                 cuda,\n",
        "                 lr\n",
        "                 ):\n",
        "        super(GemModel, self).__init__()\n",
        "        nl, nh = n_layers, n_hiddens\n",
        "        self.margin = memory_strength\n",
        "        self.is_cifar = (data_file == 'cifar100.pt')\n",
        "        if self.is_cifar:\n",
        "            self.net = ResNet18(n_outputs)\n",
        "        else:\n",
        "            self.net = MLP([n_inputs] + [nh] * nl + [n_outputs])\n",
        "\n",
        "        self.ce = nn.CrossEntropyLoss()\n",
        "        self.n_outputs = n_outputs\n",
        "\n",
        "        self.opt = optim.SGD(self.parameters(), lr)\n",
        "\n",
        "        self.n_memories = n_memories\n",
        "        self.gpu = cuda\n",
        "\n",
        "        # allocate episodic memory\n",
        "        self.memory_data = torch.FloatTensor(\n",
        "            n_tasks, self.n_memories, n_inputs)\n",
        "        self.memory_labs = torch.LongTensor(n_tasks, self.n_memories)\n",
        "        if cuda:\n",
        "            self.memory_data = self.memory_data.cuda()\n",
        "            self.memory_labs = self.memory_labs.cuda()\n",
        "\n",
        "        # allocate temporary synaptic memory\n",
        "        self.grad_dims = []\n",
        "        for param in self.parameters():\n",
        "            self.grad_dims.append(param.data.numel())\n",
        "        self.grads = torch.Tensor(sum(self.grad_dims), n_tasks)\n",
        "        if cuda:\n",
        "            self.grads = self.grads.cuda()\n",
        "\n",
        "        # allocate counters\n",
        "        self.observed_tasks = []\n",
        "        self.old_task = -1\n",
        "        self.mem_cnt = 0\n",
        "        if self.is_cifar:\n",
        "            self.nc_per_task = int(n_outputs / n_tasks)\n",
        "        else:\n",
        "            self.nc_per_task = n_outputs\n",
        "\n",
        "    def forward(self, x, t):\n",
        "        output = self.net(x)\n",
        "        if self.is_cifar:\n",
        "            # make sure we predict classes within the current task\n",
        "            offset1 = int(t * self.nc_per_task)\n",
        "            offset2 = int((t + 1) * self.nc_per_task)\n",
        "            if offset1 > 0:\n",
        "                output[:, :offset1].data.fill_(-10e10)\n",
        "            if offset2 < self.n_outputs:\n",
        "                output[:, offset2:self.n_outputs].data.fill_(-10e10)\n",
        "        return output\n",
        "\n",
        "    def observe(self, x, t, y):\n",
        "        # update memory\n",
        "        if t != self.old_task:\n",
        "            self.observed_tasks.append(t)\n",
        "            self.old_task = t\n",
        "\n",
        "        # Update ring buffer storing examples from current task\n",
        "        bsz = y.data.size(0)\n",
        "        endcnt = min(self.mem_cnt + bsz, self.n_memories)\n",
        "        effbsz = endcnt - self.mem_cnt\n",
        "        self.memory_data[t, self.mem_cnt: endcnt].copy_(\n",
        "            x.data[: effbsz])\n",
        "        if bsz == 1:\n",
        "            self.memory_labs[t, self.mem_cnt] = y.data[0]\n",
        "        else:\n",
        "            self.memory_labs[t, self.mem_cnt: endcnt].copy_(\n",
        "                y.data[: effbsz])\n",
        "        self.mem_cnt += effbsz\n",
        "        if self.mem_cnt == self.n_memories:\n",
        "            self.mem_cnt = 0\n",
        "\n",
        "        # compute gradient on previous tasks\n",
        "        if len(self.observed_tasks) > 1:\n",
        "            for tt in range(len(self.observed_tasks) - 1):\n",
        "                self.zero_grad()\n",
        "                # fwd/bwd on the examples in the memory\n",
        "                past_task = self.observed_tasks[tt]\n",
        "\n",
        "                offset1, offset2 = compute_offsets(past_task, self.nc_per_task,\n",
        "                                                   self.is_cifar)\n",
        "                ptloss = self.ce(\n",
        "                    self.forward(\n",
        "                        self.memory_data[past_task],\n",
        "                        past_task)[:, offset1: offset2],\n",
        "                    self.memory_labs[past_task] - offset1)\n",
        "                ptloss.backward()\n",
        "                store_grad(self.parameters, self.grads, self.grad_dims,\n",
        "                           past_task)\n",
        "\n",
        "        # now compute the grad on the current minibatch\n",
        "        self.zero_grad()\n",
        "\n",
        "        offset1, offset2 = compute_offsets(t, self.nc_per_task, self.is_cifar)\n",
        "        loss = self.ce(self.forward(x, t)[:, offset1: offset2], y - offset1)\n",
        "        loss.backward()\n",
        "\n",
        "        # check if gradient violates constraints\n",
        "        if len(self.observed_tasks) > 1:\n",
        "            # copy gradient\n",
        "            store_grad(self.parameters, self.grads, self.grad_dims, t)\n",
        "            indx = torch.cuda.LongTensor(self.observed_tasks[:-1]) if self.gpu \\\n",
        "                else torch.LongTensor(self.observed_tasks[:-1])\n",
        "            dotp = torch.mm(self.grads[:, t].unsqueeze(0),\n",
        "                            self.grads.index_select(1, indx))\n",
        "            if (dotp < 0).sum() != 0:\n",
        "                project2cone2(self.grads[:, t].unsqueeze(1),\n",
        "                              self.grads.index_select(1, indx), self.margin)\n",
        "                # copy gradients back\n",
        "                overwrite_grad(self.parameters, self.grads[:, t],\n",
        "                               self.grad_dims)\n",
        "        self.opt.step()"
      ],
      "execution_count": null,
      "outputs": []
    },
    {
      "cell_type": "markdown",
      "metadata": {
        "id": "YxIuqMrbl0ns",
        "colab_type": "text"
      },
      "source": [
        "**Testing Infrastucture**\n",
        "\n",
        "We now set up our testing infrastructure. The Continuum class creates permuted data to use as a new task and test the extent of catastrophic forgetting. The eval_tasks and life_experience functions output the result of the different models using the permuted data. "
      ]
    },
    {
      "cell_type": "code",
      "metadata": {
        "id": "DMf0kdBn7XQF",
        "colab_type": "code",
        "colab": {}
      },
      "source": [
        "class Continuum:\n",
        "\n",
        "    def __init__(self, data,batch_size,shuffle_tasks, samples_per_task,n_epochs):\n",
        "        self.data = data\n",
        "        self.batch_size = batch_size\n",
        "        n_tasks = len(data)\n",
        "        task_permutation = range(n_tasks)\n",
        "\n",
        "        if shuffle_tasks == 'yes':\n",
        "            task_permutation = torch.randperm(n_tasks).tolist()\n",
        "\n",
        "        sample_permutations = []\n",
        "\n",
        "        for t in range(n_tasks):\n",
        "            N = data[t][1].size(0)\n",
        "            if samples_per_task <= 0:\n",
        "                n = N\n",
        "            else:\n",
        "                n = min(samples_per_task, N)\n",
        "\n",
        "            p = torch.randperm(N)[0:n]\n",
        "            sample_permutations.append(p)\n",
        "\n",
        "        self.permutation = []\n",
        "\n",
        "        for t in range(n_tasks):\n",
        "            task_t = task_permutation[t]\n",
        "            for _ in range(n_epochs):\n",
        "                task_p = [[task_t, i] for i in sample_permutations[task_t]]\n",
        "                random.shuffle(task_p)\n",
        "                self.permutation += task_p\n",
        "\n",
        "        self.length = len(self.permutation)\n",
        "        self.current = 0\n",
        "\n",
        "    def __iter__(self):\n",
        "        return self\n",
        "\n",
        "    def next(self):\n",
        "        return self.__next__()\n",
        "\n",
        "    def __next__(self):\n",
        "        if self.current >= self.length:\n",
        "            raise StopIteration\n",
        "        else:\n",
        "            ti = self.permutation[self.current][0]\n",
        "            j = []\n",
        "            i = 0\n",
        "            while (((self.current + i) < self.length) and\n",
        "                   (self.permutation[self.current + i][0] == ti) and\n",
        "                   (i < self.batch_size)):\n",
        "                j.append(self.permutation[self.current + i][1])\n",
        "                i += 1\n",
        "            self.current += i\n",
        "            j = torch.LongTensor(j)\n",
        "            return self.data[ti][1][j], ti, self.data[ti][2][j]"
      ],
      "execution_count": null,
      "outputs": []
    },
    {
      "cell_type": "code",
      "metadata": {
        "id": "2bYyaAF87qWR",
        "colab_type": "code",
        "colab": {}
      },
      "source": [
        "def eval_tasks(model, tasks, cuda):\n",
        "    model.eval()\n",
        "    result = []\n",
        "    for i, task in enumerate(tasks):\n",
        "        t = i\n",
        "        x = task[1]\n",
        "        y = task[2]\n",
        "        rt = 0\n",
        "        \n",
        "        eval_bs = x.size(0)\n",
        "\n",
        "        for b_from in range(0, x.size(0), eval_bs):\n",
        "            b_to = min(b_from + eval_bs, x.size(0) - 1)\n",
        "            if b_from == b_to:\n",
        "                xb = x[b_from].view(1, -1)\n",
        "                yb = torch.LongTensor([y[b_to]]).view(1, -1)\n",
        "            else:\n",
        "                xb = x[b_from:b_to]\n",
        "                yb = y[b_from:b_to]\n",
        "            # if cuda:\n",
        "            #     xb = xb.cuda()\n",
        "            _, pb = torch.max(model(xb, t).data.cpu(), 1, keepdim=False)\n",
        "            rt += (pb == yb).float().sum()\n",
        "\n",
        "        result.append(rt / x.size(0))\n",
        "\n",
        "    return result"
      ],
      "execution_count": null,
      "outputs": []
    },
    {
      "cell_type": "code",
      "metadata": {
        "id": "B-PaN6QP7tzo",
        "colab_type": "code",
        "colab": {}
      },
      "source": [
        "def life_experience(model, continuum, x_te, log_every,cuda):\n",
        "    result_a = []\n",
        "    result_t = []\n",
        "\n",
        "    current_task = 0\n",
        "    time_start = time.time()\n",
        "\n",
        "    for (i, (x, t, y)) in enumerate(continuum):\n",
        "        if(((i % log_every) == 0) or (t != current_task)):\n",
        "            result_a.append(eval_tasks(model, x_te, cuda))\n",
        "            result_t.append(current_task)\n",
        "            current_task = t\n",
        "\n",
        "        v_x = x.view(x.size(0), -1)\n",
        "        v_y = y.long()\n",
        "\n",
        "        # if cuda:\n",
        "        #     v_x = v_x.cuda()\n",
        "        #     v_y = v_y.cuda()\n",
        "\n",
        "        model.train()\n",
        "        model.observe(v_x, t, v_y)\n",
        "\n",
        "    result_a.append(eval_tasks(model, x_te, cuda))\n",
        "    result_t.append(current_task)\n",
        "\n",
        "    time_end = time.time()\n",
        "    time_spent = time_end - time_start\n",
        "    return torch.Tensor(result_t), torch.Tensor(result_a), time_spent"
      ],
      "execution_count": null,
      "outputs": []
    },
    {
      "cell_type": "code",
      "metadata": {
        "id": "Ng5-WJrf75S1",
        "colab_type": "code",
        "colab": {}
      },
      "source": [
        "def task_changes(result_t):\n",
        "    n_tasks = int(result_t.max() + 1)\n",
        "    changes = []\n",
        "    current = result_t[0]\n",
        "    for i, t in enumerate(result_t):\n",
        "        if t != current:\n",
        "            changes.append(i)\n",
        "            current = t\n",
        "\n",
        "    return n_tasks, changes\n",
        "def confusion_matrix(result_t, result_a, fname=None):\n",
        "    nt, changes = task_changes(result_t)\n",
        "\n",
        "    baseline = result_a[0]\n",
        "    changes = torch.LongTensor(changes + [result_a.size(0)]) - 1\n",
        "    result = result_a[changes]\n",
        "\n",
        "    # acc[t] equals result[t,t]\n",
        "    acc = result.diag()\n",
        "    fin = result[nt - 1]\n",
        "    # bwt[t] equals result[T,t] - acc[t]\n",
        "    bwt = result[nt - 1] - acc\n",
        "\n",
        "    # fwt[t] equals result[t-1,t] - baseline[t]\n",
        "    fwt = torch.zeros(nt)\n",
        "    for t in range(1, nt):\n",
        "        fwt[t] = result[t - 1, t] - baseline[t]\n",
        "\n",
        "    if fname is None:\n",
        "        #f = open(fname, 'w')\n",
        "\n",
        "        print(' '.join(['%.4f' % r for r in baseline]))\n",
        "        #print('|', file=f)\n",
        "        for row in range(result.size(0)):\n",
        "            print(' '.join(['%.4f' % r for r in result[row]]))\n",
        "        print('')\n",
        "        print('Diagonal Accuracy: %.4f' % acc.mean())\n",
        "        print('Final Accuracy: %.4f' % fin.mean())\n",
        "        print('Backward: %.4f' % bwt.mean())\n",
        "        print('Forward:  %.4f' % fwt.mean())\n",
        "        #f.close()\n",
        "\n",
        "    stats = []\n",
        "    stats.append(acc.mean())\n",
        "    stats.append(fin.mean())\n",
        "    stats.append(bwt.mean())\n",
        "    stats.append(fwt.mean())\n",
        "\n",
        "    return stats"
      ],
      "execution_count": null,
      "outputs": []
    },
    {
      "cell_type": "code",
      "metadata": {
        "id": "JvyZzEGW73R9",
        "colab_type": "code",
        "colab": {}
      },
      "source": [
        "import importlib\n",
        "import datetime\n",
        "import argparse\n",
        "import random\n",
        "import uuid\n",
        "import time\n",
        "import os\n",
        "import torch\n",
        "import numpy as np\n",
        "\n",
        "n_hiddens=100 #number of hidden neurons at each layer\n",
        "n_layers=2 #number of hidden layers\n",
        "lr=1e-3 #SGD learning rate\n",
        "batch_size=10 #batch_size\n",
        "shuffle_tasks='no'#present tasks in order\n",
        "samples_per_task=-1 #training samples per task (all if negative)\n",
        "n_epochs=10#Number of epochs per task\n",
        "log_every=100#frequency of logs, in minibatches\n",
        "cuda='no' #'Use GPU?'\n",
        "seed=0#'random seed'\n",
        "n_tasks=3#number of tasks\n",
        "model='ewc'\n",
        "data_file=\"\"\n",
        "memory_strength=0 #(meaning depends on memory)\n",
        "n_memories=0#number of memories per task\n",
        "if model == 'multimodal':\n",
        "    n_layers -= 1\n",
        "\n",
        "\n",
        "# initialize seeds\n",
        "torch.backends.cudnn.enabled = False\n",
        "torch.manual_seed(seed)\n",
        "np.random.seed(seed)\n",
        "random.seed(seed) \n",
        "\n",
        "# load data \n",
        "\n",
        "tasks_tr = []\n",
        "tasks_te = []\n",
        "x_tr = x_mnist_tr\n",
        "x_te = x_mnist_te\n",
        "y_tr = y_mnist_tr\n",
        "y_te = y_mnist_te\n",
        "x_tr = x_tr.float().view(x_tr.size(0), -1) / 255.0\n",
        "x_te = x_te.float().view(x_te.size(0), -1) / 255.0\n",
        "y_tr = y_tr.view(-1).long()\n",
        "y_te = y_te.view(-1).long()\n",
        "\n",
        "for t in range(n_tasks):\n",
        "    p = torch.randperm(x_tr.size(1)).long().view(-1)\n",
        "    tasks_tr.append(['random permutation', x_tr.index_select(1, p), y_tr])\n",
        "    tasks_te.append(['random permutation', x_te.index_select(1, p), y_te])\n",
        "\n",
        "#load_data()\n",
        "d_tr = tasks_tr\n",
        "d_te =tasks_te  \n",
        "n_inputs = d_tr[0][1].size(1)\n",
        "n_outputs = 0\n",
        "for i in range(len(d_tr)):\n",
        "   n_outputs = max(n_outputs, d_tr[i][2].max().item())\n",
        "   n_outputs = max(n_outputs, d_te[i][2].max().item())\n",
        "x_tr=d_tr\n",
        "x_te=d_te\n",
        "n_outputs = n_outputs +1\n",
        "n_tasks= len(d_tr)"
      ],
      "execution_count": null,
      "outputs": []
    },
    {
      "cell_type": "markdown",
      "metadata": {
        "id": "5usTtI1VUAE3",
        "colab_type": "text"
      },
      "source": [
        "**We now run ours tests**"
      ]
    },
    {
      "cell_type": "markdown",
      "metadata": {
        "id": "al0admTkVaSd",
        "colab_type": "text"
      },
      "source": [
        "**1.Single Model**"
      ]
    },
    {
      "cell_type": "code",
      "metadata": {
        "id": "FtAHk66qJELo",
        "colab_type": "code",
        "colab": {
          "base_uri": "https://localhost:8080/",
          "height": 204
        },
        "outputId": "56e100af-8903-4afd-a9cc-83c35de85248"
      },
      "source": [
        "# single model exececution.\n",
        "# set up continuum\n",
        "\n",
        "continuum = Continuum(x_tr,batch_size,shuffle_tasks, samples_per_task,n_epochs)\n",
        "print(\"Model 1 : Single Model Output\")\n",
        "model = SinglePredictorModel(n_inputs, n_outputs, n_tasks, n_layers, n_hiddens, data_file, lr)\n",
        "result_t, result_a, spent_time = life_experience(model, continuum, x_te,log_every,cuda)\n",
        "stats_single = confusion_matrix(result_t, result_a)\n",
        "print(stats_single)\n"
      ],
      "execution_count": null,
      "outputs": [
        {
          "output_type": "stream",
          "text": [
            "Model 1 : Single Model Output\n",
            "0.0750 0.1075 0.0780\n",
            "0.9386 0.0833 0.1057\n",
            "0.8993 0.9468 0.0816\n",
            "0.7196 0.8911 0.9533\n",
            "\n",
            "Diagonal Accuracy: 0.9462\n",
            "Final Accuracy: 0.8547\n",
            "Backward: -0.0916\n",
            "Forward:  -0.0069\n",
            "[tensor(0.9462), tensor(0.8547), tensor(-0.0916), tensor(-0.0069)]\n"
          ],
          "name": "stdout"
        }
      ]
    },
    {
      "cell_type": "markdown",
      "metadata": {
        "id": "73EKpWPWVkUs",
        "colab_type": "text"
      },
      "source": [
        "# **2.Independent Predicator**"
      ]
    },
    {
      "cell_type": "code",
      "metadata": {
        "id": "n9dak-s8JGMx",
        "colab_type": "code",
        "colab": {
          "base_uri": "https://localhost:8080/",
          "height": 204
        },
        "outputId": "7feacef3-ec76-4d45-e3e2-40c99660486e"
      },
      "source": [
        "# Inpendent Predicator Per Task Model exececution.\n",
        "# set up continuum\n",
        "continuum = Continuum(x_tr,batch_size,shuffle_tasks, samples_per_task,n_epochs)\n",
        "print(\"Model 2 : Inpendent Predicator Per Task Model\")\n",
        "finetune='yes'\n",
        "cuda='yes'\n",
        "model = InpendentPredicatorPerTaskModel(n_inputs, n_outputs, n_tasks, n_layers, n_hiddens, data_file, lr, finetune, cuda)\n",
        "result_t, result_a, spent_time = life_experience(model, continuum, x_te,log_every,cuda)\n",
        "stats_independent = confusion_matrix(result_t, result_a)\n",
        "print(stats_independent)\n"
      ],
      "execution_count": null,
      "outputs": [
        {
          "output_type": "stream",
          "text": [
            "Model 2 : Inpendent Predicator Per Task Model\n",
            "0.0878 0.0858 0.0930\n",
            "0.9313 0.0858 0.0930\n",
            "0.9313 0.9394 0.0930\n",
            "0.9313 0.9394 0.9448\n",
            "\n",
            "Diagonal Accuracy: 0.9385\n",
            "Final Accuracy: 0.9385\n",
            "Backward: 0.0000\n",
            "Forward:  0.0000\n",
            "[tensor(0.9385), tensor(0.9385), tensor(0.), tensor(0.)]\n"
          ],
          "name": "stdout"
        }
      ]
    },
    {
      "cell_type": "markdown",
      "metadata": {
        "id": "FzAOpixzV9Hv",
        "colab_type": "text"
      },
      "source": [
        "**3.MultiModal**"
      ]
    },
    {
      "cell_type": "markdown",
      "metadata": {
        "id": "IeZF7jN9V87_",
        "colab_type": "text"
      },
      "source": [
        ""
      ]
    },
    {
      "cell_type": "code",
      "metadata": {
        "id": "1966TO3SNz1y",
        "colab_type": "code",
        "colab": {
          "base_uri": "https://localhost:8080/",
          "height": 204
        },
        "outputId": "9c9373a8-368f-42b3-d59c-3287d6afa55e"
      },
      "source": [
        "# Multi-Model\n",
        "# set up continuum\n",
        "continuum = Continuum(x_tr,batch_size,shuffle_tasks, samples_per_task,n_epochs)\n",
        "print(\"Model 3 : Multimodel model execution\")\n",
        "model = MultimodelPredictorModel(n_inputs, n_outputs, n_tasks,n_hiddens,n_layers,lr)\n",
        "result_t, result_a, spent_time = life_experience(model, continuum, x_te,log_every,cuda)\n",
        "stats_multimodel = confusion_matrix(result_t, result_a)\n",
        "print(stats_multimodel)\n"
      ],
      "execution_count": null,
      "outputs": [
        {
          "output_type": "stream",
          "text": [
            "Model 3 : Multimodel model execution\n",
            "0.0531 0.1388 0.1297\n",
            "0.9220 0.1199 0.1126\n",
            "0.9135 0.9549 0.1181\n",
            "0.9047 0.9506 0.9628\n",
            "\n",
            "Diagonal Accuracy: 0.9466\n",
            "Final Accuracy: 0.9394\n",
            "Backward: -0.0072\n",
            "Forward:  -0.0102\n",
            "[tensor(0.9466), tensor(0.9394), tensor(-0.0072), tensor(-0.0102)]\n"
          ],
          "name": "stdout"
        }
      ]
    },
    {
      "cell_type": "markdown",
      "metadata": {
        "id": "bxr_9B48WKNU",
        "colab_type": "text"
      },
      "source": [
        "**4.EWC MODEL**"
      ]
    },
    {
      "cell_type": "code",
      "metadata": {
        "id": "5VW5bF0jOwDp",
        "colab_type": "code",
        "colab": {
          "base_uri": "https://localhost:8080/",
          "height": 204
        },
        "outputId": "b3e38bbf-d129-41da-b90d-9aa99e725692"
      },
      "source": [
        "# EWC-Model\n",
        "# set up continuum\n",
        "continuum = Continuum(x_tr,batch_size,shuffle_tasks, samples_per_task,n_epochs)\n",
        "print(\"Model 4 : EWC Model execution\")\n",
        "model = EWCModel(n_inputs, n_outputs, n_tasks,n_hiddens,n_layers,lr,data_file,memory_strength,n_memories)\n",
        "result_t, result_a, spent_time = life_experience(model, continuum, x_te,log_every,cuda)\n",
        "stats_ewcModel = confusion_matrix(result_t, result_a)\n",
        "print(stats_ewcModel)\n"
      ],
      "execution_count": null,
      "outputs": [
        {
          "output_type": "stream",
          "text": [
            "Model 4 : EWC Model execution\n",
            "0.0909 0.0893 0.0888\n",
            "0.9387 0.1035 0.0711\n",
            "0.8904 0.9490 0.0673\n",
            "0.7875 0.9149 0.9520\n",
            "\n",
            "Diagonal Accuracy: 0.9466\n",
            "Final Accuracy: 0.8848\n",
            "Backward: -0.0618\n",
            "Forward:  -0.0024\n",
            "[tensor(0.9466), tensor(0.8848), tensor(-0.0618), tensor(-0.0024)]\n"
          ],
          "name": "stdout"
        }
      ]
    },
    {
      "cell_type": "markdown",
      "metadata": {
        "id": "bAx-V6yqWSMu",
        "colab_type": "text"
      },
      "source": [
        "**5.GEM MODEL**"
      ]
    },
    {
      "cell_type": "code",
      "metadata": {
        "id": "f_3ChKZMcCYJ",
        "colab_type": "code",
        "colab": {
          "base_uri": "https://localhost:8080/",
          "height": 204
        },
        "outputId": "72a818dd-4274-4aea-9211-f45e7cf6301d"
      },
      "source": [
        "# GEM-Model\n",
        "# set up continuum\n",
        "continuum = Continuum(x_tr,batch_size,shuffle_tasks, samples_per_task,n_epochs)\n",
        "print(\"Model 5 : GEM-Model execution\")\n",
        "model = GemModel(n_inputs, n_outputs, n_tasks, n_layers, n_hiddens, n_memories, memory_strength, data_file, None, lr)\n",
        "result_t, result_a, spent_time = life_experience(model, continuum, x_te,log_every,cuda)\n",
        "stats_gemModel = confusion_matrix(result_t, result_a)\n",
        "print(stats_gemModel)\n"
      ],
      "execution_count": null,
      "outputs": [
        {
          "output_type": "stream",
          "text": [
            "Model 6 : GEM-Model execution\n",
            "0.1056 0.0845 0.0635\n",
            "0.9386 0.1314 0.0933\n",
            "0.8842 0.9470 0.0813\n",
            "0.7336 0.9248 0.9536\n",
            "\n",
            "Diagonal Accuracy: 0.9464\n",
            "Final Accuracy: 0.8707\n",
            "Backward: -0.0757\n",
            "Forward:  0.0216\n",
            "[tensor(0.9464), tensor(0.8707), tensor(-0.0757), tensor(0.0216)]\n"
          ],
          "name": "stdout"
        }
      ]
    },
    {
      "cell_type": "markdown",
      "metadata": {
        "id": "iiMgkAN7Wej1",
        "colab_type": "text"
      },
      "source": [
        "**Let us now visually compare the results obtained from various models we discussed above**"
      ]
    },
    {
      "cell_type": "code",
      "metadata": {
        "id": "KbqMJ26dAcJz",
        "colab_type": "code",
        "colab": {
          "base_uri": "https://localhost:8080/",
          "height": 85
        },
        "outputId": "d9842ec2-8040-4048-c83a-317e38f2235a"
      },
      "source": [
        "import numpy as np\n",
        "print(stats_single)\n",
        "accuracies=np.zeros(6)\n",
        "BWT=np.zeros(6)\n",
        "FWT=np.zeros(6)\n",
        "\n",
        "accuracies[0]=stats_single[1]\n",
        "BWT[0]=stats_single[2]\n",
        "FWT[0]=stats_single[3]\n",
        "\n",
        "accuracies[1]=stats_independent[1]\n",
        "BWT[1]=stats_independent[2]\n",
        "FWT[1]=stats_independent[3]\n",
        "\n",
        "accuracies[2]=stats_multimodel[1]\n",
        "BWT[2]=stats_multimodel[2]\n",
        "FWT[2]=stats_multimodel[3]\n",
        "\n",
        "accuracies[3]=stats_ewcModel[1]\n",
        "BWT[3]=stats_ewcModel[2]\n",
        "FWT[3]=stats_ewcModel[3]\n",
        "\n",
        "accuracies[4]=stats_gemModel[1]\n",
        "BWT[4]=stats_gemModel[2]\n",
        "FWT[4]=stats_gemModel[3]\n",
        "print(accuracies)\n",
        "print(BWT)\n",
        "print(FWT)"
      ],
      "execution_count": null,
      "outputs": [
        {
          "output_type": "stream",
          "text": [
            "[tensor(0.9462), tensor(0.8547), tensor(-0.0916), tensor(-0.0069)]\n",
            "[0.85466671 0.93849999 0.93936664 0.88479996 0.87066668 0.        ]\n",
            "[-0.09156666  0.         -0.0072     -0.06176667 -0.07573334  0.        ]\n",
            "[-0.00686667  0.         -0.01016666 -0.00243333  0.02156667  0.        ]\n"
          ],
          "name": "stdout"
        }
      ]
    },
    {
      "cell_type": "code",
      "metadata": {
        "id": "Ceze-O2K2Vwd",
        "colab_type": "code",
        "colab": {
          "base_uri": "https://localhost:8080/",
          "height": 1000
        },
        "outputId": "fcc19d3d-8618-4f60-c714-ea2a1a8faffe"
      },
      "source": [
        "import matplotlib.pyplot as plt; plt.rcdefaults()\n",
        "import numpy as np\n",
        "import matplotlib.pyplot as plt\n",
        "import matplotlib as mp\n",
        "modellist = ('single', 'independent', 'multimodal', 'ewc', 'gem')\n",
        "x= np.arange(len(modellist))\n",
        "colors = {'single': 'red',\n",
        "          'independent': 'green',\n",
        "          'multimodal': 'blue',\n",
        "          'icarl': 'yellow',\n",
        "          'ewc': 'pink',\n",
        "          'gem': 'purple'}\n",
        "print(\"Accuracy plot of various models for 10 epochs\")\n",
        "all_colors = []\n",
        "for xi, yi, li in zip(x, accuracies, modellist):\n",
        "  plt.bar(xi, yi,color=colors[li],align='center', alpha=0.5,width=0.4)\n",
        "  all_colors.append(colors[li])\n",
        "plt.xticks(x, modellist)\n",
        "plt.ylabel('Model Accuracy')\n",
        "plt.title('Models')\n",
        "plt.show()\n",
        "print(\"Backward Transfer plot of various models for 10 epochs\")\n",
        "for xi, yi, li in zip(x, BWT, modellist):\n",
        "  plt.bar(xi, yi,color=colors[li],align='center', alpha=0.5,width=0.4)\n",
        "plt.xticks(x, modellist)\n",
        "plt.ylabel('Backward Transfer')\n",
        "plt.title('Models')\n",
        "plt.show()\n",
        "print(\"Forward Transfer plot of various models for 10 epochs\")\n",
        "for xi, yi, li in zip(x, FWT, modellist):\n",
        "  plt.bar(xi, yi,color=colors[li],align='center', alpha=0.5,width=0.4)\n",
        "plt.xticks(x, modellist)\n",
        "plt.ylabel('Forward Transfer')\n",
        "plt.title('Models')\n",
        "plt.show()"
      ],
      "execution_count": null,
      "outputs": [
        {
          "output_type": "stream",
          "text": [
            "Accuracy plot of various models for 10 epochs\n"
          ],
          "name": "stdout"
        },
        {
          "output_type": "display_data",
          "data": {
            "image/png": "[encoded data removed]",
            "text/plain": [
              "<Figure size 640x480 with 1 Axes>"
            ]
          },
          "metadata": {
            "tags": []
          }
        },
        {
          "output_type": "stream",
          "text": [
            "Backward Transfer plot of various models for 10 epochs\n"
          ],
          "name": "stdout"
        },
        {
          "output_type": "display_data",
          "data": {
            "image/png": "[encoded data removed]",
            "text/plain": [
              "<Figure size 640x480 with 1 Axes>"
            ]
          },
          "metadata": {
            "tags": []
          }
        },
        {
          "output_type": "stream",
          "text": [
            "Forward Transfer plot of various models for 10 epochs\n"
          ],
          "name": "stdout"
        },
        {
          "output_type": "display_data",
          "data": {
            "image/png": "[encoded data removed]",
            "text/plain": [
              "<Figure size 640x480 with 1 Axes>"
            ]
          },
          "metadata": {
            "tags": []
          }
        }
      ]
    },
    {
      "cell_type": "markdown",
      "metadata": {
        "id": "Q30iipAbbgrE",
        "colab_type": "text"
      },
      "source": [
        "**Conclusion**\n",
        "\n",
        "Below are the recorded accuracies for different models:\n",
        "\n",
        "1. Model 1 : Single\n",
        "\n",
        "    Diagonal Accuracy: 94.62%\n",
        "    \n",
        "    Final Accuracy: 85.47%\n",
        "    \n",
        "    Backward: -9.16%\n",
        "    \n",
        "    Forward:  -0.69%\n",
        "\n",
        "\n",
        "2. Model 2 : Independent\n",
        "\n",
        "    Diagonal Accuracy: 93.85%\n",
        "\n",
        "    Final Accuracy: 93.85%\n",
        "\n",
        "    Backward: 0\n",
        "\n",
        "    Forward:  0\n",
        "\n",
        "\n",
        "3. Model 3 : Multimodal\n",
        "\n",
        "    Diagonal Accuracy: 94.66%\n",
        "\n",
        "    Final Accuracy: 93.94%\n",
        "\n",
        "    Backward: -0.72%\n",
        "\n",
        "    Forward:  -1.02%\n",
        "\n",
        "\n",
        "4. Model 4 : EWC\n",
        "\n",
        "    Diagonal Accuracy: 94.66%\n",
        "    \n",
        "    Final Accuracy: 88.48%\n",
        "    \n",
        "    Backward: -6.18%\n",
        "    \n",
        "    Forward:  -0.24%\n",
        "\n",
        "\n",
        "5. GEM Model\n",
        "\n",
        "    Diagonal Accuracy: 94.64%\n",
        "    \n",
        "    Final Accuracy: 87.07%\n",
        "    \n",
        "    Backward: -7.57%\n",
        "    \n",
        "    Forward:  2.16%\n",
        "\n",
        "We were a bit surprised to note that GEM did not perform as well as initially expected. We expected results consistent with the Paz-Ranzato paper where GEM would have high accuracy and minimal negative backwards transfer or catastrophic interference. Intead given the parameters we used, GEM par-level accuracy and high negative backwards interference. We suspect that GEM would perform better with an increasing number of epochs.\n",
        "\n",
        "Other results however, were consistent with out expectations. The single, \"control\" model displayed high levels of catastrophic interference. The \"independent\" model displayed not catastrophic interference as expected given that every task has a separate model effectively. The EWC, regularization model, displayed less catastrophic interference than the \"control\" single model, but still displayed a relatively high level of forgetting. The multimodal model performed well as expected with a model that is rather flexible.  \n",
        "\n",
        "\n",
        "**References-**\n",
        "We have referred the following papers and links\n",
        "\n",
        "1)Lopez-Ranzato paper- http://papers.nips.cc/paper/7225-gradient-episodic-memory-for-continual-learning.pdf) \n",
        "\n",
        "2)https://arxiv.org/pdf/1612.00796.pdf\n",
        "\n",
        "3)https://openreview.net/attachment?id=H1g79ySYvB&name=original_pdf\n",
        "\n",
        "4)http://proceedings.mlr.press/v9/glorot10a/glorot10a.pdf?source=post_page\n",
        "\n",
        "5)github-https://github.com/facebookresearch/GradientEpisodicMemory \n",
        "\n",
        "\n"
      ]
    }
  ]
}